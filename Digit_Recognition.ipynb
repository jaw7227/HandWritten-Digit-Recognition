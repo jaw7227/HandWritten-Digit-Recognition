{
 "cells": [
  {
   "cell_type": "code",
   "execution_count": 37,
   "metadata": {
    "colab": {
     "base_uri": "https://localhost:8080/"
    },
    "id": "Bjepjic5SjL-",
    "outputId": "a553d936-44c3-4afe-8a37-b2a477c3d4ec"
   },
   "outputs": [],
   "source": [
    "import keras\n",
    "from keras.datasets import mnist\n",
    "from keras.models import Sequential\n",
    "from keras.layers import Dense, Dropout, Flatten\n",
    "from keras.layers import Conv2D, MaxPooling2D\n",
    "from keras import backend as K\n",
    "from keras.utils.np_utils import to_categorical\n",
    "import pandas as pd\n",
    "import matplotlib.pyplot as plt\n",
    "import numpy as np\n",
    "from sklearn.datasets import fetch_openml\n",
    "mnist = fetch_openml('MNIST_784')\n",
    "# the data, split between train and test sets\n",
    "# (x_train, y_train), (x_test, y_test) = mnist.load_data()\n",
    "# print(x_train.shape, y_train.shape)\n",
    "# print(x_test.shape, y_test.shape)"
   ]
  },
  {
   "cell_type": "code",
   "execution_count": 38,
   "metadata": {},
   "outputs": [
    {
     "name": "stdout",
     "output_type": "stream",
     "text": [
      "(70000, 784)\n"
     ]
    }
   ],
   "source": [
    "x = mnist['data']\n",
    "y = mnist['target']\n",
    "\n",
    "print(x.shape)"
   ]
  },
  {
   "cell_type": "code",
   "execution_count": 42,
   "metadata": {},
   "outputs": [],
   "source": [
    "from sklearn.model_selection import train_test_split\n",
    "x_train, x_test ,y_train,y_test = train_test_split(x,y,test_size=0.14,random_state=0)"
   ]
  },
  {
   "cell_type": "code",
   "execution_count": 43,
   "metadata": {},
   "outputs": [
    {
     "name": "stdout",
     "output_type": "stream",
     "text": [
      "7\n"
     ]
    },
    {
     "data": {
      "image/png": "[encoded data removed]",
      "text/plain": [
       "<Figure size 432x288 with 1 Axes>"
      ]
     },
     "metadata": {
      "needs_background": "light"
     },
     "output_type": "display_data"
    }
   ],
   "source": [
    "import matplotlib\n",
    "import matplotlib.pyplot as plt\n",
    "i=69000\n",
    "digit = x[i]\n",
    "digit_image = digit.reshape(28,28)\n",
    "plt.imshow(digit_image,cmap = matplotlib.cm.binary,interpolation = \"nearest\")\n",
    "print(y[i])"
   ]
  },
  {
   "cell_type": "code",
   "execution_count": 44,
   "metadata": {
    "colab": {
     "base_uri": "https://localhost:8080/"
    },
    "id": "jLtPa5NIUmkY",
    "outputId": "ad246192-2d3a-4488-86b6-9547ee60af1b"
   },
   "outputs": [
    {
     "name": "stdout",
     "output_type": "stream",
     "text": [
      "x_train shape: (60199, 28, 28, 1)\n",
      "60199 train samples\n",
      "9801 test samples\n"
     ]
    }
   ],
   "source": [
    "x_train = x_train.reshape(x_train.shape[0], 28, 28, 1)\n",
    "x_test = x_test.reshape(x_test.shape[0], 28, 28, 1)\n",
    "num_classes = 10\n",
    "input_shape = (28, 28, 1)\n",
    "# convert class vectors to binary class matrices\n",
    "y_train = keras.utils.to_categorical(y_train,num_classes)\n",
    "y_test = keras.utils.to_categorical(y_test,num_classes)\n",
    "x_train = x_train.astype('float32')\n",
    "x_test = x_test.astype('float32')\n",
    "x_train /= 255\n",
    "x_test /= 255\n",
    "print('x_train shape:', x_train.shape)\n",
    "print(x_train.shape[0], 'train samples')\n",
    "print(x_test.shape[0], 'test samples')"
   ]
  },
  {
   "cell_type": "code",
   "execution_count": 45,
   "metadata": {
    "id": "0s20e2rbTS8j"
   },
   "outputs": [],
   "source": [
    "batch_size = 32\n",
    "num_classes = 10\n",
    "epochs = 100\n",
    "model = Sequential()\n",
    "model.add(Conv2D(32, kernel_size=(3, 3),activation='relu',input_shape=(28, 28, 1)))\n",
    "model.add(Conv2D(64, (3, 3), activation='relu'))\n",
    "model.add(MaxPooling2D(pool_size=(2, 2)))\n",
    "model.add(Dropout(0.25))\n",
    "model.add(Flatten())\n",
    "model.add(Dense(256, activation='relu'))\n",
    "model.add(Dropout(0.5))\n",
    "model.add(Dense(num_classes, activation='softmax'))\n",
    "model.compile(loss=keras.losses.categorical_crossentropy,optimizer=keras.optimizers.Adadelta(),metrics=['accuracy'])"
   ]
  },
  {
   "cell_type": "code",
   "execution_count": 46,
   "metadata": {
    "colab": {
     "base_uri": "https://localhost:8080/"
    },
    "id": "0JwWXP6VUzcC",
    "outputId": "19006625-5989-4739-8856-a7dae522980f"
   },
   "outputs": [
    {
     "name": "stdout",
     "output_type": "stream",
     "text": [
      "Epoch 1/100\n",
      "1882/1882 [==============================] - 111s 59ms/step - loss: 2.2359 - accuracy: 0.2430 - val_loss: 2.1220 - val_accuracy: 0.6222\n",
      "Epoch 2/100\n",
      "1882/1882 [==============================] - 114s 60ms/step - loss: 1.9918 - accuracy: 0.5344 - val_loss: 1.7663 - val_accuracy: 0.7453\n",
      "Epoch 3/100\n",
      "1882/1882 [==============================] - 121s 64ms/step - loss: 1.5772 - accuracy: 0.6497 - val_loss: 1.2566 - val_accuracy: 0.7883\n",
      "Epoch 4/100\n",
      "1882/1882 [==============================] - 137s 73ms/step - loss: 1.1613 - accuracy: 0.7043 - val_loss: 0.8802 - val_accuracy: 0.8157\n",
      "Epoch 5/100\n",
      "1882/1882 [==============================] - 139s 74ms/step - loss: 0.9034 - accuracy: 0.7461 - val_loss: 0.6862 - val_accuracy: 0.8348\n",
      "Epoch 6/100\n",
      "1882/1882 [==============================] - 147s 78ms/step - loss: 0.7696 - accuracy: 0.7713 - val_loss: 0.5832 - val_accuracy: 0.8475\n",
      "Epoch 7/100\n",
      "1882/1882 [==============================] - 140s 74ms/step - loss: 0.6798 - accuracy: 0.7941 - val_loss: 0.5192 - val_accuracy: 0.8583\n",
      "Epoch 8/100\n",
      "1882/1882 [==============================] - 153s 81ms/step - loss: 0.6239 - accuracy: 0.8090 - val_loss: 0.4765 - val_accuracy: 0.8664\n",
      "Epoch 9/100\n",
      "1882/1882 [==============================] - 138s 74ms/step - loss: 0.5782 - accuracy: 0.8219 - val_loss: 0.4454 - val_accuracy: 0.8726\n",
      "Epoch 10/100\n",
      "1882/1882 [==============================] - 141s 75ms/step - loss: 0.5490 - accuracy: 0.8293 - val_loss: 0.4219 - val_accuracy: 0.8801\n",
      "Epoch 11/100\n",
      "1882/1882 [==============================] - 126s 67ms/step - loss: 0.5229 - accuracy: 0.8380 - val_loss: 0.4034 - val_accuracy: 0.8860\n",
      "Epoch 12/100\n",
      "1882/1882 [==============================] - 126s 67ms/step - loss: 0.4992 - accuracy: 0.8491 - val_loss: 0.3878 - val_accuracy: 0.8889\n",
      "Epoch 13/100\n",
      "1882/1882 [==============================] - 125s 66ms/step - loss: 0.4842 - accuracy: 0.8528 - val_loss: 0.3745 - val_accuracy: 0.8930\n",
      "Epoch 14/100\n",
      "1882/1882 [==============================] - 120s 64ms/step - loss: 0.4658 - accuracy: 0.8592 - val_loss: 0.3640 - val_accuracy: 0.8950\n",
      "Epoch 15/100\n",
      "1882/1882 [==============================] - 123s 65ms/step - loss: 0.4528 - accuracy: 0.8628 - val_loss: 0.3541 - val_accuracy: 0.8965\n",
      "Epoch 16/100\n",
      "1882/1882 [==============================] - 115s 61ms/step - loss: 0.4418 - accuracy: 0.8649 - val_loss: 0.3449 - val_accuracy: 0.8986\n",
      "Epoch 17/100\n",
      "1882/1882 [==============================] - 124s 66ms/step - loss: 0.4321 - accuracy: 0.8701 - val_loss: 0.3369 - val_accuracy: 0.9009\n",
      "Epoch 18/100\n",
      "1882/1882 [==============================] - 120s 64ms/step - loss: 0.4209 - accuracy: 0.8735 - val_loss: 0.3296 - val_accuracy: 0.9025\n",
      "Epoch 19/100\n",
      "1882/1882 [==============================] - 120s 64ms/step - loss: 0.4126 - accuracy: 0.8760 - val_loss: 0.3234 - val_accuracy: 0.9042\n",
      "Epoch 20/100\n",
      "1882/1882 [==============================] - 130s 69ms/step - loss: 0.4018 - accuracy: 0.8794 - val_loss: 0.3168 - val_accuracy: 0.9063\n",
      "Epoch 21/100\n",
      "1882/1882 [==============================] - 121s 64ms/step - loss: 0.3965 - accuracy: 0.8800 - val_loss: 0.3106 - val_accuracy: 0.9085\n",
      "Epoch 22/100\n",
      "1882/1882 [==============================] - 132s 70ms/step - loss: 0.3876 - accuracy: 0.8825 - val_loss: 0.3048 - val_accuracy: 0.9111\n",
      "Epoch 23/100\n",
      "1882/1882 [==============================] - 137s 73ms/step - loss: 0.3812 - accuracy: 0.8856 - val_loss: 0.2993 - val_accuracy: 0.9132\n",
      "Epoch 24/100\n",
      "1882/1882 [==============================] - 126s 67ms/step - loss: 0.3745 - accuracy: 0.8873 - val_loss: 0.2948 - val_accuracy: 0.9136\n",
      "Epoch 25/100\n",
      "1882/1882 [==============================] - 119s 63ms/step - loss: 0.3691 - accuracy: 0.8871 - val_loss: 0.2906 - val_accuracy: 0.9149\n",
      "Epoch 26/100\n",
      "1882/1882 [==============================] - 126s 67ms/step - loss: 0.3625 - accuracy: 0.8900 - val_loss: 0.2860 - val_accuracy: 0.9168\n",
      "Epoch 27/100\n",
      "1882/1882 [==============================] - 122s 65ms/step - loss: 0.3561 - accuracy: 0.8927 - val_loss: 0.2817 - val_accuracy: 0.9180\n",
      "Epoch 28/100\n",
      "1882/1882 [==============================] - 119s 63ms/step - loss: 0.3546 - accuracy: 0.8935 - val_loss: 0.2774 - val_accuracy: 0.9194\n",
      "Epoch 29/100\n",
      "1882/1882 [==============================] - 125s 67ms/step - loss: 0.3437 - accuracy: 0.8961 - val_loss: 0.2738 - val_accuracy: 0.9199\n",
      "Epoch 30/100\n",
      "1882/1882 [==============================] - 123s 65ms/step - loss: 0.3421 - accuracy: 0.8965 - val_loss: 0.2700 - val_accuracy: 0.9211\n",
      "Epoch 31/100\n",
      "1882/1882 [==============================] - 120s 64ms/step - loss: 0.3385 - accuracy: 0.8989 - val_loss: 0.2662 - val_accuracy: 0.9223\n",
      "Epoch 32/100\n",
      "1882/1882 [==============================] - 121s 64ms/step - loss: 0.3338 - accuracy: 0.8997 - val_loss: 0.2630 - val_accuracy: 0.9226\n",
      "Epoch 33/100\n",
      "1882/1882 [==============================] - 121s 64ms/step - loss: 0.3283 - accuracy: 0.9004 - val_loss: 0.2598 - val_accuracy: 0.9244\n",
      "Epoch 34/100\n",
      "1882/1882 [==============================] - 127s 68ms/step - loss: 0.3262 - accuracy: 0.9030 - val_loss: 0.2564 - val_accuracy: 0.9253\n",
      "Epoch 35/100\n",
      "1882/1882 [==============================] - 125s 66ms/step - loss: 0.3193 - accuracy: 0.9043 - val_loss: 0.2536 - val_accuracy: 0.9257\n",
      "Epoch 36/100\n",
      "1882/1882 [==============================] - 125s 66ms/step - loss: 0.3178 - accuracy: 0.9029 - val_loss: 0.2505 - val_accuracy: 0.9264\n",
      "Epoch 37/100\n",
      "1882/1882 [==============================] - 116s 62ms/step - loss: 0.3134 - accuracy: 0.9060 - val_loss: 0.2477 - val_accuracy: 0.9284\n",
      "Epoch 38/100\n",
      "1882/1882 [==============================] - 126s 67ms/step - loss: 0.3073 - accuracy: 0.9076 - val_loss: 0.2449 - val_accuracy: 0.9291\n",
      "Epoch 39/100\n",
      "1882/1882 [==============================] - 114s 61ms/step - loss: 0.3079 - accuracy: 0.9091 - val_loss: 0.2424 - val_accuracy: 0.9292\n",
      "Epoch 40/100\n",
      "1882/1882 [==============================] - 121s 64ms/step - loss: 0.3047 - accuracy: 0.9082 - val_loss: 0.2401 - val_accuracy: 0.9302\n",
      "Epoch 41/100\n",
      "1882/1882 [==============================] - 116s 62ms/step - loss: 0.2984 - accuracy: 0.9103 - val_loss: 0.2371 - val_accuracy: 0.9321\n",
      "Epoch 42/100\n",
      "1882/1882 [==============================] - 114s 61ms/step - loss: 0.2999 - accuracy: 0.9098 - val_loss: 0.2346 - val_accuracy: 0.9326\n",
      "Epoch 43/100\n",
      "1882/1882 [==============================] - 116s 61ms/step - loss: 0.2934 - accuracy: 0.9109 - val_loss: 0.2324 - val_accuracy: 0.9325\n",
      "Epoch 44/100\n",
      "1882/1882 [==============================] - 118s 62ms/step - loss: 0.2919 - accuracy: 0.9123 - val_loss: 0.2304 - val_accuracy: 0.9334\n",
      "Epoch 45/100\n",
      "1882/1882 [==============================] - 114s 60ms/step - loss: 0.2885 - accuracy: 0.9146 - val_loss: 0.2279 - val_accuracy: 0.9343\n",
      "Epoch 46/100\n",
      "1882/1882 [==============================] - 114s 60ms/step - loss: 0.2867 - accuracy: 0.9139 - val_loss: 0.2258 - val_accuracy: 0.9353\n",
      "Epoch 47/100\n",
      "1882/1882 [==============================] - 123s 66ms/step - loss: 0.2826 - accuracy: 0.9149 - val_loss: 0.2235 - val_accuracy: 0.9356\n",
      "Epoch 48/100\n",
      "1882/1882 [==============================] - 119s 63ms/step - loss: 0.2804 - accuracy: 0.9156 - val_loss: 0.2214 - val_accuracy: 0.9367\n",
      "Epoch 49/100\n",
      "1882/1882 [==============================] - 116s 61ms/step - loss: 0.2771 - accuracy: 0.9164 - val_loss: 0.2192 - val_accuracy: 0.9371\n",
      "Epoch 50/100\n",
      "1882/1882 [==============================] - 115s 61ms/step - loss: 0.2741 - accuracy: 0.9186 - val_loss: 0.2173 - val_accuracy: 0.9377\n",
      "Epoch 51/100\n",
      "1882/1882 [==============================] - 114s 61ms/step - loss: 0.2721 - accuracy: 0.9182 - val_loss: 0.2155 - val_accuracy: 0.9384\n",
      "Epoch 52/100\n",
      "1882/1882 [==============================] - 114s 61ms/step - loss: 0.2692 - accuracy: 0.9181 - val_loss: 0.2134 - val_accuracy: 0.9390\n",
      "Epoch 53/100\n",
      "1882/1882 [==============================] - 118s 63ms/step - loss: 0.2678 - accuracy: 0.9194 - val_loss: 0.2115 - val_accuracy: 0.9395\n",
      "Epoch 54/100\n",
      " 378/1882 [=====>........................] - ETA: 1:42 - loss: 0.2712 - accuracy: 0.9206"
     ]
    },
    {
     "ename": "KeyboardInterrupt",
     "evalue": "",
     "output_type": "error",
     "traceback": [
      "\u001b[1;31m---------------------------------------------------------------------------\u001b[0m",
      "\u001b[1;31mKeyboardInterrupt\u001b[0m                         Traceback (most recent call last)",
      "\u001b[1;32m<ipython-input-46-604353566226>\u001b[0m in \u001b[0;36m<module>\u001b[1;34m\u001b[0m\n\u001b[1;32m----> 1\u001b[1;33m \u001b[0mhist\u001b[0m \u001b[1;33m=\u001b[0m \u001b[0mmodel\u001b[0m\u001b[1;33m.\u001b[0m\u001b[0mfit\u001b[0m\u001b[1;33m(\u001b[0m\u001b[0mx_train\u001b[0m\u001b[1;33m,\u001b[0m \u001b[0my_train\u001b[0m\u001b[1;33m,\u001b[0m\u001b[0mbatch_size\u001b[0m\u001b[1;33m=\u001b[0m\u001b[0mbatch_size\u001b[0m\u001b[1;33m,\u001b[0m\u001b[0mepochs\u001b[0m\u001b[1;33m=\u001b[0m\u001b[0mepochs\u001b[0m\u001b[1;33m,\u001b[0m\u001b[0mverbose\u001b[0m\u001b[1;33m=\u001b[0m\u001b[1;36m1\u001b[0m\u001b[1;33m,\u001b[0m\u001b[0mvalidation_data\u001b[0m\u001b[1;33m=\u001b[0m\u001b[1;33m(\u001b[0m\u001b[0mx_test\u001b[0m\u001b[1;33m,\u001b[0m \u001b[0my_test\u001b[0m\u001b[1;33m)\u001b[0m\u001b[1;33m)\u001b[0m\u001b[1;33m\u001b[0m\u001b[1;33m\u001b[0m\u001b[0m\n\u001b[0m\u001b[0;32m      2\u001b[0m \u001b[0mprint\u001b[0m\u001b[1;33m(\u001b[0m\u001b[1;34m\"The model has successfully trained\"\u001b[0m\u001b[1;33m)\u001b[0m\u001b[1;33m\u001b[0m\u001b[1;33m\u001b[0m\u001b[0m\n\u001b[0;32m      3\u001b[0m \u001b[1;33m\u001b[0m\u001b[0m\n\u001b[0;32m      4\u001b[0m \u001b[0mmodel\u001b[0m\u001b[1;33m.\u001b[0m\u001b[0msave\u001b[0m\u001b[1;33m(\u001b[0m\u001b[1;34m'mnist.h5'\u001b[0m\u001b[1;33m)\u001b[0m\u001b[1;33m\u001b[0m\u001b[1;33m\u001b[0m\u001b[0m\n\u001b[0;32m      5\u001b[0m \u001b[0mprint\u001b[0m\u001b[1;33m(\u001b[0m\u001b[1;34m\"Saving the model as mnist.h5\"\u001b[0m\u001b[1;33m)\u001b[0m\u001b[1;33m\u001b[0m\u001b[1;33m\u001b[0m\u001b[0m\n",
      "\u001b[1;32m~\\anaconda3\\lib\\site-packages\\tensorflow\\python\\keras\\engine\\training.py\u001b[0m in \u001b[0;36m_method_wrapper\u001b[1;34m(self, *args, **kwargs)\u001b[0m\n\u001b[0;32m    106\u001b[0m   \u001b[1;32mdef\u001b[0m \u001b[0m_method_wrapper\u001b[0m\u001b[1;33m(\u001b[0m\u001b[0mself\u001b[0m\u001b[1;33m,\u001b[0m \u001b[1;33m*\u001b[0m\u001b[0margs\u001b[0m\u001b[1;33m,\u001b[0m \u001b[1;33m**\u001b[0m\u001b[0mkwargs\u001b[0m\u001b[1;33m)\u001b[0m\u001b[1;33m:\u001b[0m\u001b[1;33m\u001b[0m\u001b[1;33m\u001b[0m\u001b[0m\n\u001b[0;32m    107\u001b[0m     \u001b[1;32mif\u001b[0m \u001b[1;32mnot\u001b[0m \u001b[0mself\u001b[0m\u001b[1;33m.\u001b[0m\u001b[0m_in_multi_worker_mode\u001b[0m\u001b[1;33m(\u001b[0m\u001b[1;33m)\u001b[0m\u001b[1;33m:\u001b[0m  \u001b[1;31m# pylint: disable=protected-access\u001b[0m\u001b[1;33m\u001b[0m\u001b[1;33m\u001b[0m\u001b[0m\n\u001b[1;32m--> 108\u001b[1;33m       \u001b[1;32mreturn\u001b[0m \u001b[0mmethod\u001b[0m\u001b[1;33m(\u001b[0m\u001b[0mself\u001b[0m\u001b[1;33m,\u001b[0m \u001b[1;33m*\u001b[0m\u001b[0margs\u001b[0m\u001b[1;33m,\u001b[0m \u001b[1;33m**\u001b[0m\u001b[0mkwargs\u001b[0m\u001b[1;33m)\u001b[0m\u001b[1;33m\u001b[0m\u001b[1;33m\u001b[0m\u001b[0m\n\u001b[0m\u001b[0;32m    109\u001b[0m \u001b[1;33m\u001b[0m\u001b[0m\n\u001b[0;32m    110\u001b[0m     \u001b[1;31m# Running inside `run_distribute_coordinator` already.\u001b[0m\u001b[1;33m\u001b[0m\u001b[1;33m\u001b[0m\u001b[1;33m\u001b[0m\u001b[0m\n",
      "\u001b[1;32m~\\anaconda3\\lib\\site-packages\\tensorflow\\python\\keras\\engine\\training.py\u001b[0m in \u001b[0;36mfit\u001b[1;34m(self, x, y, batch_size, epochs, verbose, callbacks, validation_split, validation_data, shuffle, class_weight, sample_weight, initial_epoch, steps_per_epoch, validation_steps, validation_batch_size, validation_freq, max_queue_size, workers, use_multiprocessing)\u001b[0m\n\u001b[0;32m   1096\u001b[0m                 batch_size=batch_size):\n\u001b[0;32m   1097\u001b[0m               \u001b[0mcallbacks\u001b[0m\u001b[1;33m.\u001b[0m\u001b[0mon_train_batch_begin\u001b[0m\u001b[1;33m(\u001b[0m\u001b[0mstep\u001b[0m\u001b[1;33m)\u001b[0m\u001b[1;33m\u001b[0m\u001b[1;33m\u001b[0m\u001b[0m\n\u001b[1;32m-> 1098\u001b[1;33m               \u001b[0mtmp_logs\u001b[0m \u001b[1;33m=\u001b[0m \u001b[0mtrain_function\u001b[0m\u001b[1;33m(\u001b[0m\u001b[0miterator\u001b[0m\u001b[1;33m)\u001b[0m\u001b[1;33m\u001b[0m\u001b[1;33m\u001b[0m\u001b[0m\n\u001b[0m\u001b[0;32m   1099\u001b[0m               \u001b[1;32mif\u001b[0m \u001b[0mdata_handler\u001b[0m\u001b[1;33m.\u001b[0m\u001b[0mshould_sync\u001b[0m\u001b[1;33m:\u001b[0m\u001b[1;33m\u001b[0m\u001b[1;33m\u001b[0m\u001b[0m\n\u001b[0;32m   1100\u001b[0m                 \u001b[0mcontext\u001b[0m\u001b[1;33m.\u001b[0m\u001b[0masync_wait\u001b[0m\u001b[1;33m(\u001b[0m\u001b[1;33m)\u001b[0m\u001b[1;33m\u001b[0m\u001b[1;33m\u001b[0m\u001b[0m\n",
      "\u001b[1;32m~\\anaconda3\\lib\\site-packages\\tensorflow\\python\\eager\\def_function.py\u001b[0m in \u001b[0;36m__call__\u001b[1;34m(self, *args, **kwds)\u001b[0m\n\u001b[0;32m    778\u001b[0m       \u001b[1;32melse\u001b[0m\u001b[1;33m:\u001b[0m\u001b[1;33m\u001b[0m\u001b[1;33m\u001b[0m\u001b[0m\n\u001b[0;32m    779\u001b[0m         \u001b[0mcompiler\u001b[0m \u001b[1;33m=\u001b[0m \u001b[1;34m\"nonXla\"\u001b[0m\u001b[1;33m\u001b[0m\u001b[1;33m\u001b[0m\u001b[0m\n\u001b[1;32m--> 780\u001b[1;33m         \u001b[0mresult\u001b[0m \u001b[1;33m=\u001b[0m \u001b[0mself\u001b[0m\u001b[1;33m.\u001b[0m\u001b[0m_call\u001b[0m\u001b[1;33m(\u001b[0m\u001b[1;33m*\u001b[0m\u001b[0margs\u001b[0m\u001b[1;33m,\u001b[0m \u001b[1;33m**\u001b[0m\u001b[0mkwds\u001b[0m\u001b[1;33m)\u001b[0m\u001b[1;33m\u001b[0m\u001b[1;33m\u001b[0m\u001b[0m\n\u001b[0m\u001b[0;32m    781\u001b[0m \u001b[1;33m\u001b[0m\u001b[0m\n\u001b[0;32m    782\u001b[0m       \u001b[0mnew_tracing_count\u001b[0m \u001b[1;33m=\u001b[0m \u001b[0mself\u001b[0m\u001b[1;33m.\u001b[0m\u001b[0m_get_tracing_count\u001b[0m\u001b[1;33m(\u001b[0m\u001b[1;33m)\u001b[0m\u001b[1;33m\u001b[0m\u001b[1;33m\u001b[0m\u001b[0m\n",
      "\u001b[1;32m~\\anaconda3\\lib\\site-packages\\tensorflow\\python\\eager\\def_function.py\u001b[0m in \u001b[0;36m_call\u001b[1;34m(self, *args, **kwds)\u001b[0m\n\u001b[0;32m    805\u001b[0m       \u001b[1;31m# In this case we have created variables on the first call, so we run the\u001b[0m\u001b[1;33m\u001b[0m\u001b[1;33m\u001b[0m\u001b[1;33m\u001b[0m\u001b[0m\n\u001b[0;32m    806\u001b[0m       \u001b[1;31m# defunned version which is guaranteed to never create variables.\u001b[0m\u001b[1;33m\u001b[0m\u001b[1;33m\u001b[0m\u001b[1;33m\u001b[0m\u001b[0m\n\u001b[1;32m--> 807\u001b[1;33m       \u001b[1;32mreturn\u001b[0m \u001b[0mself\u001b[0m\u001b[1;33m.\u001b[0m\u001b[0m_stateless_fn\u001b[0m\u001b[1;33m(\u001b[0m\u001b[1;33m*\u001b[0m\u001b[0margs\u001b[0m\u001b[1;33m,\u001b[0m \u001b[1;33m**\u001b[0m\u001b[0mkwds\u001b[0m\u001b[1;33m)\u001b[0m  \u001b[1;31m# pylint: disable=not-callable\u001b[0m\u001b[1;33m\u001b[0m\u001b[1;33m\u001b[0m\u001b[0m\n\u001b[0m\u001b[0;32m    808\u001b[0m     \u001b[1;32melif\u001b[0m \u001b[0mself\u001b[0m\u001b[1;33m.\u001b[0m\u001b[0m_stateful_fn\u001b[0m \u001b[1;32mis\u001b[0m \u001b[1;32mnot\u001b[0m \u001b[1;32mNone\u001b[0m\u001b[1;33m:\u001b[0m\u001b[1;33m\u001b[0m\u001b[1;33m\u001b[0m\u001b[0m\n\u001b[0;32m    809\u001b[0m       \u001b[1;31m# Release the lock early so that multiple threads can perform the call\u001b[0m\u001b[1;33m\u001b[0m\u001b[1;33m\u001b[0m\u001b[1;33m\u001b[0m\u001b[0m\n",
      "\u001b[1;32m~\\anaconda3\\lib\\site-packages\\tensorflow\\python\\eager\\function.py\u001b[0m in \u001b[0;36m__call__\u001b[1;34m(self, *args, **kwargs)\u001b[0m\n\u001b[0;32m   2827\u001b[0m     \u001b[1;32mwith\u001b[0m \u001b[0mself\u001b[0m\u001b[1;33m.\u001b[0m\u001b[0m_lock\u001b[0m\u001b[1;33m:\u001b[0m\u001b[1;33m\u001b[0m\u001b[1;33m\u001b[0m\u001b[0m\n\u001b[0;32m   2828\u001b[0m       \u001b[0mgraph_function\u001b[0m\u001b[1;33m,\u001b[0m \u001b[0margs\u001b[0m\u001b[1;33m,\u001b[0m \u001b[0mkwargs\u001b[0m \u001b[1;33m=\u001b[0m \u001b[0mself\u001b[0m\u001b[1;33m.\u001b[0m\u001b[0m_maybe_define_function\u001b[0m\u001b[1;33m(\u001b[0m\u001b[0margs\u001b[0m\u001b[1;33m,\u001b[0m \u001b[0mkwargs\u001b[0m\u001b[1;33m)\u001b[0m\u001b[1;33m\u001b[0m\u001b[1;33m\u001b[0m\u001b[0m\n\u001b[1;32m-> 2829\u001b[1;33m     \u001b[1;32mreturn\u001b[0m \u001b[0mgraph_function\u001b[0m\u001b[1;33m.\u001b[0m\u001b[0m_filtered_call\u001b[0m\u001b[1;33m(\u001b[0m\u001b[0margs\u001b[0m\u001b[1;33m,\u001b[0m \u001b[0mkwargs\u001b[0m\u001b[1;33m)\u001b[0m  \u001b[1;31m# pylint: disable=protected-access\u001b[0m\u001b[1;33m\u001b[0m\u001b[1;33m\u001b[0m\u001b[0m\n\u001b[0m\u001b[0;32m   2830\u001b[0m \u001b[1;33m\u001b[0m\u001b[0m\n\u001b[0;32m   2831\u001b[0m   \u001b[1;33m@\u001b[0m\u001b[0mproperty\u001b[0m\u001b[1;33m\u001b[0m\u001b[1;33m\u001b[0m\u001b[0m\n",
      "\u001b[1;32m~\\anaconda3\\lib\\site-packages\\tensorflow\\python\\eager\\function.py\u001b[0m in \u001b[0;36m_filtered_call\u001b[1;34m(self, args, kwargs, cancellation_manager)\u001b[0m\n\u001b[0;32m   1841\u001b[0m       \u001b[0;31m`\u001b[0m\u001b[0margs\u001b[0m\u001b[0;31m`\u001b[0m \u001b[1;32mand\u001b[0m\u001b[0;31m \u001b[0m\u001b[0;31m`\u001b[0m\u001b[0mkwargs\u001b[0m\u001b[0;31m`\u001b[0m\u001b[1;33m.\u001b[0m\u001b[1;33m\u001b[0m\u001b[1;33m\u001b[0m\u001b[0m\n\u001b[0;32m   1842\u001b[0m     \"\"\"\n\u001b[1;32m-> 1843\u001b[1;33m     return self._call_flat(\n\u001b[0m\u001b[0;32m   1844\u001b[0m         [t for t in nest.flatten((args, kwargs), expand_composites=True)\n\u001b[0;32m   1845\u001b[0m          if isinstance(t, (ops.Tensor,\n",
      "\u001b[1;32m~\\anaconda3\\lib\\site-packages\\tensorflow\\python\\eager\\function.py\u001b[0m in \u001b[0;36m_call_flat\u001b[1;34m(self, args, captured_inputs, cancellation_manager)\u001b[0m\n\u001b[0;32m   1921\u001b[0m         and executing_eagerly):\n\u001b[0;32m   1922\u001b[0m       \u001b[1;31m# No tape is watching; skip to running the function.\u001b[0m\u001b[1;33m\u001b[0m\u001b[1;33m\u001b[0m\u001b[1;33m\u001b[0m\u001b[0m\n\u001b[1;32m-> 1923\u001b[1;33m       return self._build_call_outputs(self._inference_function.call(\n\u001b[0m\u001b[0;32m   1924\u001b[0m           ctx, args, cancellation_manager=cancellation_manager))\n\u001b[0;32m   1925\u001b[0m     forward_backward = self._select_forward_and_backward_functions(\n",
      "\u001b[1;32m~\\anaconda3\\lib\\site-packages\\tensorflow\\python\\eager\\function.py\u001b[0m in \u001b[0;36mcall\u001b[1;34m(self, ctx, args, cancellation_manager)\u001b[0m\n\u001b[0;32m    543\u001b[0m       \u001b[1;32mwith\u001b[0m \u001b[0m_InterpolateFunctionError\u001b[0m\u001b[1;33m(\u001b[0m\u001b[0mself\u001b[0m\u001b[1;33m)\u001b[0m\u001b[1;33m:\u001b[0m\u001b[1;33m\u001b[0m\u001b[1;33m\u001b[0m\u001b[0m\n\u001b[0;32m    544\u001b[0m         \u001b[1;32mif\u001b[0m \u001b[0mcancellation_manager\u001b[0m \u001b[1;32mis\u001b[0m \u001b[1;32mNone\u001b[0m\u001b[1;33m:\u001b[0m\u001b[1;33m\u001b[0m\u001b[1;33m\u001b[0m\u001b[0m\n\u001b[1;32m--> 545\u001b[1;33m           outputs = execute.execute(\n\u001b[0m\u001b[0;32m    546\u001b[0m               \u001b[0mstr\u001b[0m\u001b[1;33m(\u001b[0m\u001b[0mself\u001b[0m\u001b[1;33m.\u001b[0m\u001b[0msignature\u001b[0m\u001b[1;33m.\u001b[0m\u001b[0mname\u001b[0m\u001b[1;33m)\u001b[0m\u001b[1;33m,\u001b[0m\u001b[1;33m\u001b[0m\u001b[1;33m\u001b[0m\u001b[0m\n\u001b[0;32m    547\u001b[0m               \u001b[0mnum_outputs\u001b[0m\u001b[1;33m=\u001b[0m\u001b[0mself\u001b[0m\u001b[1;33m.\u001b[0m\u001b[0m_num_outputs\u001b[0m\u001b[1;33m,\u001b[0m\u001b[1;33m\u001b[0m\u001b[1;33m\u001b[0m\u001b[0m\n",
      "\u001b[1;32m~\\anaconda3\\lib\\site-packages\\tensorflow\\python\\eager\\execute.py\u001b[0m in \u001b[0;36mquick_execute\u001b[1;34m(op_name, num_outputs, inputs, attrs, ctx, name)\u001b[0m\n\u001b[0;32m     57\u001b[0m   \u001b[1;32mtry\u001b[0m\u001b[1;33m:\u001b[0m\u001b[1;33m\u001b[0m\u001b[1;33m\u001b[0m\u001b[0m\n\u001b[0;32m     58\u001b[0m     \u001b[0mctx\u001b[0m\u001b[1;33m.\u001b[0m\u001b[0mensure_initialized\u001b[0m\u001b[1;33m(\u001b[0m\u001b[1;33m)\u001b[0m\u001b[1;33m\u001b[0m\u001b[1;33m\u001b[0m\u001b[0m\n\u001b[1;32m---> 59\u001b[1;33m     tensors = pywrap_tfe.TFE_Py_Execute(ctx._handle, device_name, op_name,\n\u001b[0m\u001b[0;32m     60\u001b[0m                                         inputs, attrs, num_outputs)\n\u001b[0;32m     61\u001b[0m   \u001b[1;32mexcept\u001b[0m \u001b[0mcore\u001b[0m\u001b[1;33m.\u001b[0m\u001b[0m_NotOkStatusException\u001b[0m \u001b[1;32mas\u001b[0m \u001b[0me\u001b[0m\u001b[1;33m:\u001b[0m\u001b[1;33m\u001b[0m\u001b[1;33m\u001b[0m\u001b[0m\n",
      "\u001b[1;31mKeyboardInterrupt\u001b[0m: "
     ]
    }
   ],
   "source": [
    "hist = model.fit(x_train, y_train,batch_size=batch_size,epochs=epochs,verbose=1,validation_data=(x_test, y_test))\n",
    "print(\"The model has successfully trained\")\n",
    "\n",
    "model.save('mnist.h5')\n",
    "print(\"Saving the model as mnist.h5\")"
   ]
  },
  {
   "cell_type": "code",
   "execution_count": 47,
   "metadata": {
    "colab": {
     "base_uri": "https://localhost:8080/",
     "height": 363
    },
    "id": "Dxzax1u8XiLI",
    "outputId": "aec5f6c6-029a-4477-f2d9-b0711192459b"
   },
   "outputs": [
    {
     "name": "stderr",
     "output_type": "stream",
     "text": [
      "Exception in Tkinter callback\n",
      "Traceback (most recent call last):\n",
      "  File \"C:\\Users\\AMIT KUMAR\\anaconda3\\lib\\tkinter\\__init__.py\", line 1883, in __call__\n",
      "    return self.func(*args)\n",
      "  File \"<ipython-input-47-7271da3e6d1b>\", line 53, in classify_handwriting\n",
      "    digit, acc = predict_digit(im)\n",
      "  File \"<ipython-input-47-7271da3e6d1b>\", line 17, in predict_digit\n",
      "    img = img.reshape(1,28,28,1)\n",
      "ValueError: cannot reshape array of size 1568 into shape (1,28,28,1)\n",
      "Exception in Tkinter callback\n",
      "Traceback (most recent call last):\n",
      "  File \"C:\\Users\\AMIT KUMAR\\anaconda3\\lib\\tkinter\\__init__.py\", line 1883, in __call__\n",
      "    return self.func(*args)\n",
      "  File \"<ipython-input-47-7271da3e6d1b>\", line 53, in classify_handwriting\n",
      "    digit, acc = predict_digit(im)\n",
      "  File \"<ipython-input-47-7271da3e6d1b>\", line 17, in predict_digit\n",
      "    img = img.reshape(1,28,28,1)\n",
      "ValueError: cannot reshape array of size 1568 into shape (1,28,28,1)\n",
      "Exception in Tkinter callback\n",
      "Traceback (most recent call last):\n",
      "  File \"C:\\Users\\AMIT KUMAR\\anaconda3\\lib\\tkinter\\__init__.py\", line 1883, in __call__\n",
      "    return self.func(*args)\n",
      "  File \"<ipython-input-47-7271da3e6d1b>\", line 53, in classify_handwriting\n",
      "    digit, acc = predict_digit(im)\n",
      "  File \"<ipython-input-47-7271da3e6d1b>\", line 17, in predict_digit\n",
      "    img = img.reshape(1,28,28,1)\n",
      "ValueError: cannot reshape array of size 1568 into shape (1,28,28,1)\n",
      "Exception in Tkinter callback\n",
      "Traceback (most recent call last):\n",
      "  File \"C:\\Users\\AMIT KUMAR\\anaconda3\\lib\\tkinter\\__init__.py\", line 1883, in __call__\n",
      "    return self.func(*args)\n",
      "  File \"<ipython-input-47-7271da3e6d1b>\", line 53, in classify_handwriting\n",
      "    digit, acc = predict_digit(im)\n",
      "  File \"<ipython-input-47-7271da3e6d1b>\", line 17, in predict_digit\n",
      "    img = img.reshape(1,28,28,1)\n",
      "ValueError: cannot reshape array of size 1568 into shape (1,28,28,1)\n"
     ]
    }
   ],
   "source": [
    "from keras.models import load_model\n",
    "from tkinter import *\n",
    "import tkinter as tk\n",
    "import win32gui\n",
    "from PIL import ImageGrab, Image\n",
    "import numpy as np\n",
    "\n",
    "model = load_model('mnist.h5')\n",
    "\n",
    "def predict_digit(img):\n",
    "    #resize image to 28x28 pixels\n",
    "    img = img.resize((28,28))\n",
    "    #convert rgb to grayscale\n",
    "    img = img.convert('LA')\n",
    "    img = np.array(img)\n",
    "    #reshaping to support our model input and normalizing\n",
    "    img = img.reshape(1,28,28,1)\n",
    "    img = img/255.0\n",
    "    #predicting the class\n",
    "    res = model.predict([img])[0]\n",
    "    return np.argmax(res), max(res)\n",
    "\n",
    "class App(tk.Tk):\n",
    "    def __init__(self):\n",
    "        tk.Tk.__init__(self)\n",
    "\n",
    "        self.x = self.y = 0\n",
    "\n",
    "        # Creating elements\n",
    "        #self.canvas = tk.Canvas(self, width=300, height=300, bg = \"black\", cursor=\"cross\")\n",
    "        self.canvas = tk.Canvas(self, width=300, height=300, bg = \"white\", cursor=\"cross\")\n",
    "        self.label = tk.Label(self, text=\"Thinking..\", font=(\"Helvetica\", 48))\n",
    "        self.classify_btn = tk.Button(self, text = \"Recognise\", command =         self.classify_handwriting) \n",
    "        self.button_clear = tk.Button(self, text = \"Clear\", command = self.clear_all)\n",
    "\n",
    "        # Grid structure\n",
    "        self.canvas.grid(row=0, column=0, pady=2, sticky=W, )\n",
    "        self.label.grid(row=0, column=1,pady=2, padx=2)\n",
    "        self.classify_btn.grid(row=1, column=1, pady=2, padx=2)\n",
    "        self.button_clear.grid(row=1, column=0, pady=2)\n",
    "\n",
    "        #self.canvas.bind(\"<Motion>\", self.start_pos)\n",
    "        self.canvas.bind(\"<B1-Motion>\", self.draw_lines)\n",
    "\n",
    "    def clear_all(self):\n",
    "        self.canvas.delete(\"all\")\n",
    "\n",
    "    def classify_handwriting(self):\n",
    "        HWND = self.canvas.winfo_id() # get the handle of the canvas\n",
    "        rect = win32gui.GetWindowRect(HWND) # get the coordinate of the canvas\n",
    "        im = ImageGrab.grab(rect)\n",
    "\n",
    "        digit, acc = predict_digit(im)\n",
    "        self.label.configure(text= str(digit)+', '+ str(int(acc*100))+'%')\n",
    "\n",
    "    def draw_lines(self, event):\n",
    "        self.x = event.x\n",
    "        self.y = event.y\n",
    "        r=8\n",
    "        self.canvas.create_oval(self.x-r, self.y-r, self.x + r, self.y + r, fill='black')\n",
    "        #self.canvas.create_oval(self.x-r, self.y-r, self.x + r, self.y + r, fill=\"white\")\n",
    "\n",
    "app = App()\n",
    "mainloop()"
   ]
  },
  {
   "cell_type": "code",
   "execution_count": 22,
   "metadata": {
    "colab": {
     "base_uri": "https://localhost:8080/"
    },
    "id": "f_ANLoFwfz1R",
    "outputId": "1a648630-a0f2-4377-f2a4-e6f044b946e1"
   },
   "outputs": [
    {
     "data": {
      "image/png": "[encoded data removed]",
      "text/plain": [
       "<Figure size 432x288 with 1 Axes>"
      ]
     },
     "metadata": {
      "needs_background": "light"
     },
     "output_type": "display_data"
    },
    {
     "data": {
      "image/png": "[encoded data removed]",
      "text/plain": [
       "<Figure size 432x288 with 1 Axes>"
      ]
     },
     "metadata": {
      "needs_background": "light"
     },
     "output_type": "display_data"
    }
   ],
   "source": [
    "import matplotlib.pyplot as plt\n",
    "\n",
    "acc = hist.history['accuracy']\n",
    "val_acc = hist.history['val_accuracy']\n",
    "loss = hist.history['loss']\n",
    "val_loss = hist.history['val_loss']\n",
    "epochs = range(1, len(acc) + 1)\n",
    "\n",
    "plt.plot(epochs, acc, 'b', label='Training acc')\n",
    "plt.plot(epochs, val_acc, 'g', label='Validation acc')\n",
    "plt.xlabel('Epochs')\n",
    "plt.ylabel('Accuracy')\n",
    "\n",
    "plt.title('Training and validation accuracy')\n",
    "plt.legend()\n",
    "fig = plt.figure()\n",
    "fig.savefig('acc.png')\n",
    "\n",
    "\n",
    "plt.plot(epochs, loss, 'b', label='Training loss')\n",
    "plt.plot(epochs, val_loss, 'g', label='Validation loss')\n",
    "plt.xlabel('Epochs')\n",
    "plt.ylabel('Loss')\n",
    "plt.title('Training and validation loss')\n",
    "\n",
    "plt.legend()\n",
    "plt.show()\n"
   ]
  },
  {
   "cell_type": "code",
   "execution_count": 23,
   "metadata": {
    "colab": {
     "base_uri": "https://localhost:8080/"
    },
    "id": "F_bnYDL7olTK",
    "outputId": "5838a52e-f3a7-4039-9bbd-e868ace5817f"
   },
   "outputs": [
    {
     "name": "stdout",
     "output_type": "stream",
     "text": [
      "Collecting utils\n",
      "  Downloading https://files.pythonhosted.org/packages/55/e6/c2d2b2703e7debc8b501caae0e6f7ead148fd0faa3c8131292a599930029/utils-1.0.1-py2.py3-none-any.whl\n",
      "Installing collected packages: utils\n",
      "Successfully installed utils-1.0.1\n"
     ]
    }
   ],
   "source": [
    "pip install utils"
   ]
  }
 ],
 "metadata": {
  "accelerator": "TPU",
  "colab": {
   "name": "Digit_Recognition.ipynb",
   "provenance": []
  },
  "kernelspec": {
   "display_name": "Python 3",
   "language": "python",
   "name": "python3"
  },
  "language_info": {
   "codemirror_mode": {
    "name": "ipython",
    "version": 3
   },
   "file_extension": ".py",
   "mimetype": "text/x-python",
   "name": "python",
   "nbconvert_exporter": "python",
   "pygments_lexer": "ipython3",
   "version": "3.8.3"
  }
 },
 "nbformat": 4,
 "nbformat_minor": 1
}
